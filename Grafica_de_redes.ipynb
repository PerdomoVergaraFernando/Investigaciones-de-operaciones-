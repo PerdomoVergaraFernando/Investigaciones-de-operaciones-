{
  "nbformat": 4,
  "nbformat_minor": 0,
  "metadata": {
    "colab": {
      "provenance": [],
      "authorship_tag": "ABX9TyPKHuaps9Ed5YcSDXAwfdMI",
      "include_colab_link": true
    },
    "kernelspec": {
      "name": "python3",
      "display_name": "Python 3"
    },
    "language_info": {
      "name": "python"
    }
  },
  "cells": [
    {
      "cell_type": "markdown",
      "metadata": {
        "id": "view-in-github",
        "colab_type": "text"
      },
      "source": [
        "<a href=\"https://colab.research.google.com/github/PerdomoVergaraFernando/Investigaciones-de-operaciones-/blob/main/Grafica_de_redes.ipynb\" target=\"_parent\"><img src=\"https://colab.research.google.com/assets/colab-badge.svg\" alt=\"Open In Colab\"/></a>"
      ]
    },
    {
      "cell_type": "markdown",
      "source": [
        "## Dibujo de redes"
      ],
      "metadata": {
        "id": "NcPZ3Vngex3X"
      }
    },
    {
      "cell_type": "markdown",
      "source": [
        "\n",
        "## Notas\n",
        "\n",
        "nx.DiGraph() #grafica dirigida.\n",
        "\n",
        "nx.draw_networkx(G)\n",
        "\n",
        "nx.nodes(G) ##Esta función me devuelve la lista de nodos que conforman la red"
      ],
      "metadata": {
        "id": "wj_vGfWQfEhy"
      }
    },
    {
      "cell_type": "code",
      "execution_count": null,
      "metadata": {
        "id": "rKtC7hPxXiUQ"
      },
      "outputs": [],
      "source": [
        "import networkx as nx"
      ]
    },
    {
      "cell_type": "code",
      "source": [
        "G=nx.DiGraph() #grafica dirigida.\n",
        "G.add_edge(\"A\",\"B\",capacity=0) #agrega un arco de los nodos\n",
        "G.add_edge(\"A\",\"C\",capacity=0)\n",
        "G.add_edge(\"B\",\"C\",capacity=0)\n",
        "G.add_edge(\"B\",\"D\",capacity=0)\n",
        "G.add_edge(\"C\",\"D\",capacity=0)"
      ],
      "metadata": {
        "id": "qlubH1_pYdg3"
      },
      "execution_count": 20,
      "outputs": []
    },
    {
      "cell_type": "code",
      "source": [
        "nx.draw_networkx(G)"
      ],
      "metadata": {
        "id": "ri9vASIBZPXF",
        "colab": {
          "base_uri": "https://localhost:8080/",
          "height": 233
        },
        "outputId": "57f7554e-7371-4697-ad4c-791cde28088e"
      },
      "execution_count": 21,
      "outputs": [
        {
          "output_type": "display_data",
          "data": {
            "text/plain": [
              "<Figure size 640x480 with 1 Axes>"
            ],
            "image/png": "[encoded data removed]"
          },
          "metadata": {}
        }
      ]
    },
    {
      "cell_type": "markdown",
      "source": [],
      "metadata": {
        "id": "GBsPLjLCeuPv"
      }
    },
    {
      "cell_type": "code",
      "source": [
        "nx.nodes(G) #Esta función me devuelve la lista de nodos que conforman la red"
      ],
      "metadata": {
        "id": "8pdliXB9Z2Io",
        "colab": {
          "base_uri": "https://localhost:8080/"
        },
        "outputId": "11c11f1a-2908-4068-b3d9-2b3327f8ecd0"
      },
      "execution_count": 16,
      "outputs": [
        {
          "output_type": "execute_result",
          "data": {
            "text/plain": [
              "NodeView(('A', 'B', 'C', 'D'))"
            ]
          },
          "metadata": {},
          "execution_count": 16
        }
      ]
    },
    {
      "cell_type": "code",
      "source": [
        "nx.edges(G) #esta función me devuelve la lista de arcos"
      ],
      "metadata": {
        "colab": {
          "base_uri": "https://localhost:8080/"
        },
        "id": "rA9CdkPKb-nD",
        "outputId": "fd05e33b-77fd-4f52-e9fe-758a2dc3da4a"
      },
      "execution_count": 18,
      "outputs": [
        {
          "output_type": "execute_result",
          "data": {
            "text/plain": [
              "OutEdgeView([('A', 'B'), ('A', 'C'), ('B', 'C'), ('B', 'D'), ('C', 'D')])"
            ]
          },
          "metadata": {},
          "execution_count": 18
        }
      ]
    },
    {
      "cell_type": "code",
      "source": [
        "nx.number_of_nodes(G) # Está función me devuelve la cantidad de nodos"
      ],
      "metadata": {
        "colab": {
          "base_uri": "https://localhost:8080/"
        },
        "id": "pMUOpA0BdKTO",
        "outputId": "f0b58d48-7b30-4f26-df11-9d9cb1ecdd96"
      },
      "execution_count": 19,
      "outputs": [
        {
          "output_type": "execute_result",
          "data": {
            "text/plain": [
              "4"
            ]
          },
          "metadata": {},
          "execution_count": 19
        }
      ]
    }
  ]
}